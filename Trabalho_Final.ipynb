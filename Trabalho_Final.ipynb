{
 "cells": [
  {
   "cell_type": "markdown",
   "metadata": {},
   "source": [
    "# Trabalho Final de Sólidos\n"
   ]
  },
  {
   "cell_type": "code",
   "execution_count": 1,
   "metadata": {},
   "outputs": [],
   "source": [
    "from numpy.linalg import solve\n",
    "import numpy as np"
   ]
  },
  {
   "attachments": {},
   "cell_type": "markdown",
   "metadata": {},
   "source": [
    "## O Problema\n",
    "<img src =  \"figs/enunciado.png\"/>"
   ]
  },
  {
   "attachments": {},
   "cell_type": "markdown",
   "metadata": {},
   "source": [
    "## Reações de apoio\n",
    "\n",
    "<img src =  \"figs/apoio.png\"/>\n",
    "\n",
    "---\n",
    "\n",
    "$$ \\begin{cases}\n",
    "        \\Sigma F_x=0\\\\\n",
    "        \\Sigma F_y=0\\\\\n",
    "        \\Sigma F_z=0 \\\\\n",
    "        \\Sigma M_x=0\\\\\n",
    "        \\Sigma M_y=0\\\\\n",
    "        \\Sigma M_z=0\n",
    "    \\end{cases}\n",
    "    \\implies\n",
    "    \\begin{cases}\n",
    "        C_x=100\\\\\n",
    "        C_y + D_y = 500 \\\\\n",
    "        C_z + D_z = 600 + 300 + 600=1500\\\\\n",
    "        600\\cdot0,2 = 600\\cdot0,2\\\\\n",
    "        C_z\\cdot0,5 - D_z\\cdot0,5 = 600\\cdot0,05 - 600\\cdot0,005 + 100 = 127\\\\\n",
    "        C_y\\cdot0,5 - D_y\\cdot0,5 = -100\\cdot0,2 = -20\\\\\n",
    "    \\end{cases}$$\n",
    "    \n",
    "    É possível resolver o sistema montando uma matriz como mostra a equação seguir:\n",
    "    \n",
    "    \n",
    "$$\\begin{bmatrix}\n",
    "    1 & 1 & 0 & 0\\\\\n",
    "    0 & 0 & 1 & 1\\\\\n",
    "    0 & 0 & 0,5 & -0,5\\\\\n",
    "    0,5 & -0,5 & 0 & 0\n",
    "\\end{bmatrix}\n",
    "\\begin{bmatrix}\n",
    "    C_y\\\\\n",
    "    D_y\\\\\n",
    "    C_z\\\\\n",
    "    D_z\n",
    "\\end{bmatrix}\n",
    "=\n",
    "\\begin{bmatrix}\n",
    "    500\\\\\n",
    "    1500\\\\\n",
    "    127\\\\\n",
    "    -20\n",
    "\\end{bmatrix}$$\n",
    "\n",
    "Resolvendo o sistema obtem-se    \n",
    "$$\n",
    "    \\begin{cases}\n",
    "        C_x = \\text{100 N}\\\\\n",
    "        C_y = \\text{270 N}\\\\\n",
    "        D_y = \\text{230 N} \\\\\n",
    "        C_z = \\text{877 N}\\\\\n",
    "        D_z = \\text{623 N} \\\\\n",
    "    \\end{cases}$$"
   ]
  },
  {
   "cell_type": "code",
   "execution_count": 2,
   "metadata": {},
   "outputs": [
    {
     "name": "stdout",
     "output_type": "stream",
     "text": [
      "Cx = 100.0 N\n",
      "Cy = 230.0 N\n",
      "Dy = 270.0 N\n",
      "Cz = 877.0 N\n",
      "Dz = 623.0 N\n"
     ]
    }
   ],
   "source": [
    "A = [[1, 1, 0, 0],\n",
    "     [0, 0, 1, 1],\n",
    "     [0, 0, (0.5), -(0.5)],\n",
    "     [(0.5), -(0.5), 0, 0]]\n",
    "\n",
    "b = np.array([500, 1500, 127, -20])\n",
    "Cx = 100.0 #N\n",
    "Cy, Dy, Cz, Dz = solve(A, b).T\n",
    "\n",
    "print(\"Cx = {} N\\nCy = {} N\\nDy = {} N\\nCz = {} N\\nDz = {} N\".format(Cx, Cy, Dy, Cz, Dz))"
   ]
  },
  {
   "cell_type": "markdown",
   "metadata": {},
   "source": [
    "## Reações internas na seção G\n",
    "### Convenções\n",
    "Usaresmos a seguinte convenção no trabalho\n",
    "<img src =  \"figs/convention.png\"/>\n",
    "\n",
    "---\n",
    "\n",
    "DCL de esforços internos:\n",
    "<img src =  \"figs/internos.png\"/>"
   ]
  },
  {
   "cell_type": "code",
   "execution_count": 3,
   "metadata": {},
   "outputs": [
    {
     "name": "stdout",
     "output_type": "stream",
     "text": [
      "N = 100.0 N\n",
      "Vy = -230.0 N\n",
      "Vz = 877.0 N\n",
      "Mx = 0.0 Nm\n",
      "My = -219.25 Nm\n",
      "Mz = -57.5m\n",
      "\n"
     ]
    }
   ],
   "source": [
    "N = 100.0 #N\n",
    "Vy = Dy - 500 #N\n",
    "Vz = 600+600+300-Dz #N\n",
    "Mx = 0.0 #Nm\n",
    "My = Vz*0.25 + 600*(0.005 - 0.05) -Dz*0.5 - 100 #Nm\n",
    "Mz = -Vy*0.25 +100*0.2-Dy*0.5 #Nm\n",
    "\n",
    "print(\"N = {} N\\nVy = {} N\\nVz = {} N\\nMx = {} Nm\\nMy = {} Nm\\nMz = {}m\\n\".format(N, Vy, Vz, Mx, My, Mz))\n"
   ]
  },
  {
   "cell_type": "markdown",
   "metadata": {},
   "source": [
    "## Cálculo dos momentos de inércia\n",
    "\n",
    "$$I=\\frac{\\pi d^4}{64}$$\n",
    "\n",
    "\n",
    "$$J=\\frac{\\pi\\cdot d^4}{32} = 2I$$"
   ]
  },
  {
   "cell_type": "code",
   "execution_count": 4,
   "metadata": {},
   "outputs": [
    {
     "name": "stdout",
     "output_type": "stream",
     "text": [
      "I_circulo = 4.908738521234052e-10 m^4\n",
      "J = 9.817477042468103e-10 m^4\n"
     ]
    }
   ],
   "source": [
    "d = 10*10**-3 #m\n",
    "r_eixo = d/2 #m\n",
    "I_circulo = (d**4) * (np.pi/64) #m^4\n",
    "J = 2*I_circulo #m^4\n",
    "print(\"I_circulo = {} m^4\\nJ = {} m^4\".format(I_circulo, J))"
   ]
  },
  {
   "cell_type": "markdown",
   "metadata": {},
   "source": [
    "## Cálculo da tensão normal\n",
    "### Componente $\\sigma_{xx_{N}}$\n",
    "\n",
    "$$\\sigma_{{xx}_N} = \\frac{N}{A}$$"
   ]
  },
  {
   "cell_type": "code",
   "execution_count": 5,
   "metadata": {},
   "outputs": [
    {
     "name": "stdout",
     "output_type": "stream",
     "text": [
      "σ_N_xxA = 1.2732395447351628 MPa\n",
      "σ_N_xxB = 1.2732395447351628 MPa\n"
     ]
    }
   ],
   "source": [
    "area_transversal = (r_eixo**2)*np.pi #m^2\n",
    "σ_N_xxA = N/area_transversal #Pa\n",
    "σ_N_xxB = σ_N_xxA #Pa\n",
    "print(\"σ_N_xxA = {} MPa\\nσ_N_xxB = {} MPa\".format(σ_N_xxA*10**-6, σ_N_xxB*10**-6))"
   ]
  },
  {
   "cell_type": "markdown",
   "metadata": {},
   "source": [
    "### Componente $\\sigma_{{xx}_{M_y}}$\n",
    "\n",
    "$$\\sigma_{{xx}_{M_y}} = \\frac{-M_y\\cdot z}{I}$$"
   ]
  },
  {
   "cell_type": "code",
   "execution_count": 6,
   "metadata": {},
   "outputs": [
    {
     "name": "stdout",
     "output_type": "stream",
     "text": [
      "σ_My_xxA = 2233.2621614654754 MPa\n",
      "σ_My_xxB = 0.0 MPa\n"
     ]
    }
   ],
   "source": [
    "Za = r_eixo #m\n",
    "Zb = 0*10**-3 #m\n",
    "σ_My_xxA = -My*Za/I_circulo  #Pa\n",
    "σ_My_xxB = -My*Zb/I_circulo #Pa\n",
    "print(\"σ_My_xxA = {} MPa\\nσ_My_xxB = {} MPa\".format(σ_My_xxA*10**-6, σ_My_xxB*10**-6))"
   ]
  },
  {
   "cell_type": "markdown",
   "metadata": {},
   "source": [
    "### Componente $\\sigma_{{xx}_{M_z}}$\n",
    "\n",
    "$$\\sigma_{{xx}_{M_z}} = \\frac{-M_z\\cdot y}{I}$$"
   ]
  },
  {
   "cell_type": "code",
   "execution_count": 7,
   "metadata": {},
   "outputs": [
    {
     "name": "stdout",
     "output_type": "stream",
     "text": [
      "σ_Mz_xxA = 0.0 MPa\n",
      "σ_Mz_xxB = 585.6901905781749 MPa\n"
     ]
    }
   ],
   "source": [
    "Ya = 0*10**-3 #m\n",
    "Yb = r_eixo #m\n",
    "σ_Mz_xxA = -Mz*Ya/I_circulo  #Pa\n",
    "σ_Mz_xxB = -Mz*Yb/I_circulo #Pa\n",
    "print(\"σ_Mz_xxA = {} MPa\\nσ_Mz_xxB = {} MPa\".format(σ_Mz_xxA*10**-6, σ_Mz_xxB*10**-6))"
   ]
  },
  {
   "cell_type": "markdown",
   "metadata": {},
   "source": [
    "### Soma dos componentes\n",
    "$$\\sigma_{xx} = \\sigma_{{xx}_N} + \\sigma_{{xx}_{M_y}} + \\sigma_{{xx}_{M_y}}$$"
   ]
  },
  {
   "cell_type": "code",
   "execution_count": 8,
   "metadata": {},
   "outputs": [
    {
     "name": "stdout",
     "output_type": "stream",
     "text": [
      "σ_xx_A = 2234.5354010102105 MPa\n",
      "σ_xx_B = 586.9634301229102 MPa\n"
     ]
    }
   ],
   "source": [
    "σ_xx_A = σ_N_xxA + σ_My_xxA + σ_Mz_xxA\n",
    "σ_xx_B = σ_N_xxB + σ_My_xxB + σ_Mz_xxB\n",
    "print(\"σ_xx_A = {} MPa\\nσ_xx_B = {} MPa\".format(σ_xx_A*10**-6, σ_xx_B*10**-6))"
   ]
  },
  {
   "cell_type": "markdown",
   "metadata": {},
   "source": [
    "## Cálculo das tensões cisalhantes\n",
    "\n",
    "### Devido a Mx\n",
    "Mx = 0 logo não terá tensão cisalhante"
   ]
  },
  {
   "cell_type": "markdown",
   "metadata": {},
   "source": [
    "### Devido a Vy\n",
    "$$\\tau_{{xy}} = \\frac{V_y\\cdot Q}{I\\cdot t}$$\n",
    "\n",
    "$$Q = A' \\cdot \\bar{y}$$\n",
    "\n",
    "$$A'_A = \\frac{\\pi \\cdot r^2}{2}; \\quad\n",
    "        \\bar{y} = \\frac{4 \\cdot r}{3\\pi}$$\n",
    "        \n",
    "---        \n",
    "\n",
    "<img src =  \"figs/Q_Vy.png\"/>"
   ]
  },
  {
   "cell_type": "code",
   "execution_count": 9,
   "metadata": {},
   "outputs": [
    {
     "name": "stdout",
     "output_type": "stream",
     "text": [
      "τxy_A = -3.904601270521165 MPa\n",
      "τxy_B = -0.0 MPa\n"
     ]
    }
   ],
   "source": [
    "A_prima_A = (1/2)*np.pi*r_eixo**2\n",
    "A_prima_B = 0.0\n",
    "\n",
    "y_bar_A = 4*r_eixo/(3*np.pi)\n",
    "y_bar_B = 0.0\n",
    "\n",
    "Q_A = A_prima_A*y_bar_A\n",
    "Q_B = A_prima_B*y_bar_B\n",
    "\n",
    "t = d\n",
    "\n",
    "τxy_A= Vy*Q_A/(I_circulo*t)\n",
    "τxy_B= Vy*Q_B/(I_circulo*t)\n",
    "\n",
    "\n",
    "print(\"τxy_A = {} MPa\\nτxy_B = {} MPa\".format(τxy_A*10**-6, τxy_B*10**-6))"
   ]
  },
  {
   "cell_type": "markdown",
   "metadata": {},
   "source": [
    "### Devido a Vz\n",
    "\n",
    "$$\\tau_{{xy}} = \\frac{V_z\\cdot Q}{I\\cdot t}$$\n",
    "\n",
    "$$Q = A' \\cdot \\bar{z}$$\n",
    "\n",
    "$$A'_B = \\frac{\\pi \\cdot r^2}{2}; \\quad\n",
    "        \\bar{z} = \\frac{4 \\cdot r}{3\\pi}$$\n",
    "        \n",
    "---\n",
    "\n",
    "\n",
    "<img src =  \"figs/Q_Vz.png\"/>"
   ]
  },
  {
   "cell_type": "code",
   "execution_count": 10,
   "metadata": {},
   "outputs": [
    {
     "name": "stdout",
     "output_type": "stream",
     "text": [
      "τxz_A = 0.0 MPa\n",
      "τxz_B = 14.888414409769837 MPa\n"
     ]
    }
   ],
   "source": [
    "A_prima_A = 0.0\n",
    "A_prima_B = (1/2)*np.pi*r_eixo**2\n",
    "\n",
    "z_bar_A = 0.0\n",
    "z_bar_B = 4*r_eixo/(3*np.pi)\n",
    "\n",
    "Q_A = A_prima_A*z_bar_A\n",
    "Q_B = A_prima_B*z_bar_B\n",
    "\n",
    "t = d\n",
    "\n",
    "τxz_A= Vz*Q_A/(I_circulo*t)\n",
    "τxz_B= Vz*Q_B/(I_circulo*t)\n",
    "\n",
    "#τxy_Vy_A_2\n",
    "print(\"τxz_A = {} MPa\\nτxz_B = {} MPa\".format(τxz_A*10**-6, τxz_B*10**-6))"
   ]
  },
  {
   "cell_type": "code",
   "execution_count": 11,
   "metadata": {},
   "outputs": [
    {
     "name": "stdout",
     "output_type": "stream",
     "text": [
      "Em A:\n",
      "σ_xx_A = 2234.5354010102105 MPa \n",
      "τxy_A = -3.904601270521165 MPa\n",
      "τxz_A = 0.0 MPa\n",
      "\n",
      "\n",
      "Em B:\n",
      "σ_xx_B = 586.9634301229102 MPa \n",
      "τxy_B = -0.0 MPa\n",
      "τxz_B = 14.888414409769837 MPa\n"
     ]
    }
   ],
   "source": [
    "print(\"Em A:\\nσ_xx_A = {} MPa \\nτxy_A = {} MPa\\nτxz_A = {} MPa\".format(σ_xx_A*10**-6, τxy_A*10**-6, τxz_A*10**-6))\n",
    "print(\"\\n\\nEm B:\\nσ_xx_B = {} MPa \\nτxy_B = {} MPa\\nτxz_B = {} MPa\".format(σ_xx_B*10**-6, τxy_B*10**-6, τxz_B*10**-6))"
   ]
  },
  {
   "cell_type": "markdown",
   "metadata": {},
   "source": [
    "---\n",
    "## Sumariando os valores até então\n",
    "Tem-se:\n",
    "\n",
    "$$ A:  \\begin{cases}\n",
    "        \\sigma_{A} = \\text{2234,535401 MPa}\\\\\n",
    "        \\tau_{{xy}_{A}} = \\text{3,904601 MPa}\\\\\n",
    "        \\tau_{{xz}_{A}} = \\text{0,0 MPa}\n",
    "    \\end{cases}$$\n",
    "    \n",
    "   $$B:  \\begin{cases}\n",
    "        \\sigma_{B} = \\text{586,963430 MPa}\\\\\n",
    "        \\tau_{{xy}_{A}} = \\text{0,0 MPa}\\\\\n",
    "        \\tau_{{xz}_{A}} = \\text{14,888414 MPa}\n",
    "    \\end{cases}$$\n",
    "\n",
    "---\n",
    "\n",
    "## Tensão equivalente\n",
    "\n",
    "Seguindo a TMED a tensão equivalente de von-Mises é dada por:\n",
    "$$\n",
    "\\sigma_{\\mathrm{v}}=\\sqrt{\\frac{1}{2}\\left[\\left(\\sigma_{11}-\\sigma_{22}\\right)^{2}+\\left(\\sigma_{22}-\\sigma_{33}\\right)^{2}+\\left(\\sigma_{33}-\\sigma_{11}\\right)^{2}\\right]+3\\left(\\sigma_{12}^{2}+\\sigma_{23}^{2}+\\sigma_{31}^{2}\\right)}\n",
    "$$\n",
    "\n",
    "Neste caso em particular, é possível reescrever a equação removendo os termos iguais a zero:\n",
    "$$\n",
    "\\sigma_{\\mathrm{v}}=\\sqrt{\\sigma_{xx}^{2}+3(\\tau_{xy}^{2}+\\tau_{xz}^{2})}\n",
    "$$"
   ]
  },
  {
   "cell_type": "code",
   "execution_count": 12,
   "metadata": {},
   "outputs": [
    {
     "name": "stdout",
     "output_type": "stream",
     "text": [
      "σ_eq_A = 2234.545635269306 MPa\n",
      "σ_eq_B = 587.5296272976908 MPa\n"
     ]
    }
   ],
   "source": [
    "σ_eq_A = np.sqrt(σ_xx_A**2 + 3*(τxy_A**2 + τxz_A**2))\n",
    "σ_eq_B = np.sqrt(σ_xx_B**2 + 3*(τxy_B**2 + τxz_B**2))\n",
    "\n",
    "print(\"σ_eq_A = {} MPa\\nσ_eq_B = {} MPa\".format(σ_eq_A*10**-6, σ_eq_B*10**-6))"
   ]
  },
  {
   "cell_type": "markdown",
   "metadata": {},
   "source": [
    "$$\\sigma_{\\mathrm{eq}_A} = 2234,545635 \\text{ MPa}$$\n",
    "$$\\sigma_{\\mathrm{eq}_B} = 587,529627 \\text{ MPa}$$"
   ]
  },
  {
   "cell_type": "markdown",
   "metadata": {},
   "source": [
    "## Cálculo dos Coeficientes de Segurança\n",
    "É possível calcular os coeficientes de segurança usando a equação abaixo:\n",
    "$$ n = \\frac{\\sigma_{esc}}{\\sigma_{adm}}$$"
   ]
  },
  {
   "cell_type": "code",
   "execution_count": 13,
   "metadata": {},
   "outputs": [
    {
     "name": "stdout",
     "output_type": "stream",
     "text": [
      "n_A = 0.11187956784327216\n",
      "n_B = 0.42551045663835\n"
     ]
    }
   ],
   "source": [
    "n_A = 250/(σ_eq_A*10**-6)\n",
    "n_B = 250/(σ_eq_B*10**-6)\n",
    "\n",
    "print(\"n_A = {}\\nn_B = {}\".format(n_A, n_B))"
   ]
  },
  {
   "cell_type": "markdown",
   "metadata": {},
   "source": [
    "### Para o ponto A \n",
    "$$ n = \\frac{\\sigma_{esc}}{\\sigma_{{eq}_A}} = \\frac{250}{2234,545635} = 0,111880$$\n",
    "\n",
    "\n",
    "### Para o ponto B\n",
    "$$ n = \\frac{\\sigma_{esc}}{\\sigma_{{eq}_B}} = \\frac{250}{587,529627} = 0,425510$$\n",
    "\n",
    "\n",
    "## Conclusão\n",
    "A estrutura falha."
   ]
  }
 ],
 "metadata": {
  "kernelspec": {
   "display_name": "Python 3",
   "language": "python",
   "name": "python3"
  },
  "language_info": {
   "codemirror_mode": {
    "name": "ipython",
    "version": 3
   },
   "file_extension": ".py",
   "mimetype": "text/x-python",
   "name": "python",
   "nbconvert_exporter": "python",
   "pygments_lexer": "ipython3",
   "version": "3.8.5"
  }
 },
 "nbformat": 4,
 "nbformat_minor": 2
}
